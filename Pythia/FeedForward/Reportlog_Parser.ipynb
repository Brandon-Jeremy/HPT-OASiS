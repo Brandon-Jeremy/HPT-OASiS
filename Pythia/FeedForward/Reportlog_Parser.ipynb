{
 "cells": [
  {
   "cell_type": "code",
   "execution_count": 4,
   "metadata": {},
   "outputs": [
    {
     "name": "stdout",
     "output_type": "stream",
     "text": [
      "META & 10.55992 & 9.16088 & 3.36908 & 2.86141 & 0.03469 & 96.7201 & 3\\\\\n",
      "\\hline\n",
      "TSLA & 22.33119 & 16.6434 & 7.9924 & 6.09109 & 0.0561 & 92.08264 & 10\\\\\n",
      "\\hline\n",
      "^SPX & 28.49041 & 25.58928 & 1.11745 & 0.98918 & 0.00615 & 98.89823 & 4\\\\\n",
      "\\hline\n",
      "AMZN & 4.02491 & 2.91029 & 2.73212 & 2.29511 & 0.02337 & 97.29486 & 3\\\\\n",
      "\\hline\n",
      "MSFT & 13.17492 & 12.00412 & 3.47056 & 3.02461 & 0.03464 & 96.54219 & 2\\\\\n",
      "\\hline\n",
      "NFLX & 27.72389 & 24.62071 & 5.27561 & 4.35591 & 0.04572 & 94.74688 & 5\\\\\n",
      "\\hline\n",
      "ADBE & 18.86278 & 12.09219 & 3.41431 & 2.32809 & 0.02834 & 96.59277 & 2\\\\\n",
      "\\hline\n",
      "GOOG & 2.2117 & 1.92159 & 1.77325 & 1.44436 & 0.02009 & 98.25964 & 3\\\\\n",
      "\\hline\n",
      "AMD & 4.75234 & 3.82262 & 10.86491 & 9.84882 & 0.02753 & 90.53814 & 2\\\\\n",
      "\\hline\n",
      "AAPL & 2.7113 & 1.70066 & 2.3384 & 1.62091 & 0.01388 & 97.67973 & 4\\\\\n",
      "\\hline\n"
     ]
    }
   ],
   "source": [
    "import os\n",
    "\n",
    "stocks = ['^SPX', 'TSLA', 'AMD', 'AAPL', 'MSFT', 'NFLX', 'AMZN', 'ADBE', 'META', 'GOOG']\n",
    "metrics = ['RMSE', 'MAPE', 'Accuracy', 'NormRMSE']\n",
    "subs = ['Minimum', 'Mean', 'Count']\n",
    "calculations = {stock+\"_\"+sub+\"_\"+metric: 0 for stock in stocks for sub in subs for metric in metrics}\n",
    "\n",
    "# print(calculations)\n",
    "\n",
    "for root, dirs, files in os.walk(\".\"):\n",
    "    for file in files:\n",
    "        # Each file represents a stock\n",
    "        if(file.endswith('.log')):\n",
    "            with open(file, 'r') as f:\n",
    "                stock = \"\"     \n",
    "                metric_results = {i:[] for i in metrics}\n",
    "                # print(metric_results)\n",
    "                for line in f:\n",
    "                    if \"INFO - Stock:\" in line:\n",
    "                        if 'Norm RMSE:' in line:\n",
    "                            line = line.replace('Norm RMSE:', 'NormRMSE: ')\n",
    "                        ln = line.split()\n",
    "                        # print(ln)\n",
    "                        stock = ln[-3]\n",
    "                        for metric in metrics:\n",
    "                            if str(metric+\":\") in ln:\n",
    "                                name = ln[-3]+\"_\"+ln[-2]\n",
    "                                # print(name)\n",
    "                                metric_results[str(metric)].append(round(eval(ln[-1]),5))\n",
    "\n",
    "\n",
    "                # print(f\"{metric_results} and {stock}\")\n",
    "\n",
    "                for sub in subs:\n",
    "                    for metric in metrics:\n",
    "                        if sub == 'Minimum':\n",
    "                            calculations[str(stock+\"_\"+sub+\"_\"+metric)] = round(min(metric_results[metric]),5)\n",
    "                        if sub == 'Mean':\n",
    "                            calculations[str(stock+\"_\"+sub+\"_\"+metric)] = round(sum(metric_results[metric])/len(metric_results[metric]),5)\n",
    "                        if sub == 'Count':\n",
    "                            calculations[str(stock+\"_\"+sub+\"_\"+metric)] = len(metric_results[metric])\n",
    "\n",
    "                # print(\"=============================COPY THIS=============================\")\n",
    "                print(f\"{stock} & {calculations[stock+'_Mean_RMSE']} & {calculations[stock+'_Minimum_RMSE']} & \"+\n",
    "                      f\"{calculations[stock+'_Mean_MAPE']} & {calculations[stock+'_Minimum_MAPE']} & \"+\n",
    "                      f\"{calculations[stock+'_Mean_NormRMSE']} & {calculations[stock+'_Mean_Accuracy']}\"+\n",
    "                      f\" & {calculations[stock+'_Count_RMSE']}\\\\\\\\\")\n",
    "                print(\"\\\\hline\")\n",
    "                # print(\"=============================COPY THIS=============================\")\n",
    "\n",
    "                # print(\"File Done\")\n",
    "\n",
    "                \n",
    "                    "
   ]
  },
  {
   "cell_type": "code",
   "execution_count": null,
   "metadata": {},
   "outputs": [],
   "source": [
    "calculations"
   ]
  },
  {
   "cell_type": "code",
   "execution_count": null,
   "metadata": {},
   "outputs": [],
   "source": [
    "for name, value in calculations.items():\n",
    "    metric = \" \".join(name.split(sep='_')[1:])\n",
    "    print(f\"{name.split(sep='_')[0]}: {metric}: {value}\")"
   ]
  }
 ],
 "metadata": {
  "kernelspec": {
   "display_name": "Python 3",
   "language": "python",
   "name": "python3"
  },
  "language_info": {
   "codemirror_mode": {
    "name": "ipython",
    "version": 3
   },
   "file_extension": ".py",
   "mimetype": "text/x-python",
   "name": "python",
   "nbconvert_exporter": "python",
   "pygments_lexer": "ipython3",
   "version": "3.11.2"
  }
 },
 "nbformat": 4,
 "nbformat_minor": 2
}
